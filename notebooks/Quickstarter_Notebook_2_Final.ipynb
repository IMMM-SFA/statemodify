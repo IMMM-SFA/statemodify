{
 "cells": [
  {
   "cell_type": "markdown",
   "id": "d10681ed-8a86-45e0-8189-1ab1013b280b",
   "metadata": {},
   "source": [
    "## `statemodify` Quickstarter Notebook #2 : Using the EVA Modification Function in the Gunnison River Basin"
   ]
  },
  {
   "cell_type": "markdown",
   "id": "388af975-6caf-420c-8121-aa78513ae7ee",
   "metadata": {},
   "source": [
    "This notebook demonstrates the reservoir evaporation modification function using the Gunnison River Basin as an example. Reservoir evaporation is a pressing concern in the CRB. Lake Powell loses 0.86 million acre/ft per year to evaporation, which is over 6% of the flow into the Colorado River and nearly the allocation to the state of Utah. With warming temperatures driving aridification in the region, evaporation will play an increasingly important role in shortages to users."
   ]
  },
  {
   "cell_type": "markdown",
   "id": "ac5b5ab5-f9ed-4732-aea2-693f155414d9",
   "metadata": {
    "tags": []
   },
   "source": [
    "### Step 1: Run a Historical Simulation in StateMod for the Gunnison Subbasin"
   ]
  },
  {
   "cell_type": "markdown",
   "id": "f2790314-db26-4277-bd62-d2b96df5227a",
   "metadata": {},
   "source": [
    "To explore the importance of evaporation, we first we run baseline simulation as we did in the first notebook, but this time, using the dataset for the Gunnison."
   ]
  },
  {
   "cell_type": "code",
   "execution_count": null,
   "id": "13aa645c-aeb0-4fba-b3ae-39e3b4c331ad",
   "metadata": {
    "tags": []
   },
   "outputs": [],
   "source": [
    "import argparse\n",
    "import logging\n",
    "import os\n",
    "import pickle\n",
    "import subprocess\n",
    "from string import Template\n",
    "\n",
    "import matplotlib.pyplot as plt\n",
    "import numpy as np\n",
    "import pandas as pd\n",
    "\n",
    "import statemodify as stm"
   ]
  },
  {
   "cell_type": "code",
   "execution_count": null,
   "id": "3e259af6-2bd0-4820-b736-d71a23bffda6",
   "metadata": {
    "tags": []
   },
   "outputs": [],
   "source": [
    "# statemod directory\n",
    "statemod_dir = \"/usr/src/statemodify/statemod_gunnison_sjd\"\n",
    "\n",
    "# root directory of statemod data for the target basin\n",
    "root_dir = os.path.join(statemod_dir, \"src\", \"main\", \"fortran\")\n",
    "\n",
    "# home directory of notebook instance\n",
    "home_dir = os.path.dirname(os.getcwd())\n",
    "\n",
    "# path to the statemod executable\n",
    "statemod_exe = os.path.join(root_dir, \"statemod-17.0.3-gfortran-lin-64bit-o3\")\n",
    "\n",
    "# data directory and root name for the target basin\n",
    "data_dir = os.path.join(\n",
    "    home_dir, \"data\", \"gm2015_StateMod_modified\", \"gm2015_StateMod_modified\", \"StateMod\"\n",
    ")\n",
    "\n",
    "# directory to the target basin input files with root name for the basin\n",
    "basin_path = os.path.join(data_dir, \"gm2015B\")\n",
    "\n",
    "# scenarios output directory\n",
    "scenarios_dir = os.path.join(data_dir, \"scenarios\")\n",
    "\n",
    "# path to eva template file\n",
    "eva_template_file = os.path.join(home_dir, \"data\", \"gm2015B_template_eva.rsp\")"
   ]
  },
  {
   "cell_type": "code",
   "execution_count": null,
   "id": "e4d8fefd-298f-4474-a17f-c66e4e7f3ebd",
   "metadata": {
    "tags": []
   },
   "outputs": [],
   "source": [
    "# run statemod\n",
    "subprocess.call([statemod_exe, basin_path, \"-simulate\"])"
   ]
  },
  {
   "cell_type": "markdown",
   "id": "6618531f-332f-4ba8-90e8-59b990e9b179",
   "metadata": {},
   "source": [
    "In this notebook, rather than acquiring user shortages which are found in the .xdd output file, we can track reservoir storage which is found in the `gm2015B.xre` output file. Thus, in `statemodify`, we create a method that will allow us to extract output from the `gm2015B.xre` file and save it as a .csv file. Here we extract the shortages for Blue Mesa, one of the most important upstream reservoirs in the Gunnison that is responsible for supplying emergency water to Lake Powell."
   ]
  },
  {
   "cell_type": "code",
   "execution_count": null,
   "id": "f381ae11-0f42-499d-be43-271ce7033402",
   "metadata": {
    "tags": []
   },
   "outputs": [],
   "source": [
    "# create a directory to store the historical reservoir levels at Blue Mesa\n",
    "output_dir = os.path.join(data_dir, \"historic_reservoir_levels\")\n",
    "\n",
    "if not os.path.exists(output_dir):\n",
    "    os.makedirs(output_dir)\n",
    "\n",
    "# path the the xre file\n",
    "xre_file = os.path.join(data_dir, \"gm2015B.xre\")\n",
    "\n",
    "# structure ID for reservoir of interest\n",
    "structure_ID = \"6203532\"\n",
    "\n",
    "# name of the reservoir\n",
    "structure_name = \"Blue_Mesa\"\n",
    "\n",
    "# extract the target info into a Pandas data frame\n",
    "df = stm.extract_xre_data(\n",
    "    structure_name=structure_name,\n",
    "    structure_id=structure_ID,\n",
    "    input_file=xre_file,\n",
    "    basin_name=None,\n",
    "    output_directory=output_dir,\n",
    "    write_csv=True,\n",
    "    write_parquet=None,\n",
    ")"
   ]
  },
  {
   "cell_type": "markdown",
   "id": "a4071686-ff5c-468a-9708-31fb8c554a3f",
   "metadata": {},
   "source": [
    "We can then create an annual average from our extracted monthly reservoir storage."
   ]
  },
  {
   "cell_type": "code",
   "execution_count": null,
   "id": "4fb009c5-1fb6-4796-a216-2bff0db94ce6",
   "metadata": {
    "tags": []
   },
   "outputs": [],
   "source": [
    "output_xre_file = os.path.join(output_dir, \"Blue_Mesa_xre_data.csv\")\n",
    "\n",
    "# read output data into a data frame\n",
    "df = pd.read_csv(output_xre_file, usecols=[\"Year\", \"Init. Storage\"], index_col=False)\n",
    "\n",
    "# calculate the annual average\n",
    "df = df.groupby(\"Year\").mean().reset_index()\n",
    "\n",
    "df"
   ]
  },
  {
   "cell_type": "markdown",
   "id": "3755fe87-c7e6-4742-a091-a8e2474c7d94",
   "metadata": {},
   "source": [
    "Finally, we can plot this annual average over time. We see swings in the storage that correspond well with the earliest part of the streamflow record that was relatively wet along with dry periods (large dips around the 1930s dustbowl and 1950s drought and the severe early 2002 drought). "
   ]
  },
  {
   "cell_type": "code",
   "execution_count": null,
   "id": "ef081dea-e9b4-48b7-a87b-306622cd9799",
   "metadata": {
    "tags": []
   },
   "outputs": [],
   "source": [
    "fig, ax = plt.subplots()\n",
    "\n",
    "plt.plot(df[\"Year\"], df[\"Init. Storage\"])\n",
    "\n",
    "plt.title(\"Blue Mesa Storage\")\n",
    "plt.xlabel(\"Year\")\n",
    "plt.ylabel(\"Reservoir Storage (AF)\")"
   ]
  },
  {
   "cell_type": "markdown",
   "id": "05d7c476-aa4b-435a-a582-45ad2003922a",
   "metadata": {},
   "source": [
    "### Step 2: Modify StateMod Input Files for Exploratory Analyses- Evaporation Function Example"
   ]
  },
  {
   "cell_type": "markdown",
   "id": "6097aad9-56a4-4d43-872b-293299634ba6",
   "metadata": {},
   "source": [
    "Now that we've run StateMod in baseline mode for the Gunnison, the next step is to run it in exploratory analysis mode. To do this, we need to create some plausible futures and adjust the input files for StateMod. In this step, we'll demonstrate Option 1 for `statemodify` adjustments using the `gm2015.eva` file as an example. Here we apply additives rather than multipliers. As done in Hadjimichael et al. (2020), we sample the change of evaporation between -15.24 and 30.46 cm/month (-0.5 to + 1 ft). The .eva file stores information for select larger reservoirs across all West Slope basins. We choose the ID that corresponds to Blue Mesa (10011). We create 2 alternative states of the world and store them in the `input_files` directory. "
   ]
  },
  {
   "cell_type": "code",
   "execution_count": null,
   "id": "3da00fb4-2273-4051-a116-f75e01cab719",
   "metadata": {
    "tags": []
   },
   "outputs": [],
   "source": [
    "# a dictionary to describe what you want to modify and the bounds for the LHS\n",
    "setup_dict = {\"ids\": [\"10011\"], \"bounds\": [-0.5, 1.0]}\n",
    "\n",
    "# create a directory to store the new files in if it does not exist\n",
    "output_directory = os.path.join(data_dir, \"input_files\")\n",
    "if not os.path.exists(output_directory):\n",
    "    os.makedirs(output_directory)\n",
    "\n",
    "# scenario name\n",
    "scenario = \"1\"\n",
    "\n",
    "# the number of samples you wish to generate\n",
    "n_samples = 2\n",
    "\n",
    "# seed value for reproducibility if so desired\n",
    "seed_value = 1\n",
    "\n",
    "# number of rows to skip in file after comment\n",
    "skip_rows = 1\n",
    "\n",
    "# name of field to query\n",
    "query_field = \"id\"\n",
    "\n",
    "# number of jobs to launch in parallel; -1 is all but 1 processor used\n",
    "n_jobs = -1\n",
    "\n",
    "# basin to process\n",
    "basin_name = \"Gunnison\"\n",
    "\n",
    "# generate a batch of files using generated LHS\n",
    "stm.modify_eva(\n",
    "    modify_dict=setup_dict,\n",
    "    query_field=query_field,\n",
    "    output_dir=output_directory,\n",
    "    scenario=scenario,\n",
    "    basin_name=basin_name,\n",
    "    sampling_method=\"LHS\",\n",
    "    n_samples=n_samples,\n",
    "    skip_rows=skip_rows,\n",
    "    n_jobs=n_jobs,\n",
    "    seed_value=seed_value,\n",
    "    template_file=None,\n",
    "    factor_method=\"add\",\n",
    "    data_specification_file=None,\n",
    "    min_bound_value=-0.5,\n",
    "    max_bound_value=1.0,\n",
    "    save_sample=True,\n",
    ")"
   ]
  },
  {
   "cell_type": "markdown",
   "id": "9b640807-f8d6-431f-a2ed-68c109eef9d2",
   "metadata": {},
   "source": [
    "If we print our two samples below, we see that we've created a state of the world that has reduced evaporation (subtracting 0.18 ft) and one with increased evaporation (adding 0.79 ft). These samples will be termed SOW 1 and SOW 2 respectively."
   ]
  },
  {
   "cell_type": "code",
   "execution_count": null,
   "id": "757f8158-ee37-4990-8eb6-a9b02dd6db2b",
   "metadata": {
    "tags": []
   },
   "outputs": [],
   "source": [
    "# path to the numpy file containing the samples\n",
    "eva_samples_file = os.path.join(output_directory, \"eva_2-samples_scenario-1.npy\")\n",
    "\n",
    "# load samples\n",
    "sample_array = np.load(eva_samples_file)\n",
    "\n",
    "sample_array"
   ]
  },
  {
   "cell_type": "markdown",
   "id": "e1e74e2b-053c-4339-8fbd-de0fcef58be7",
   "metadata": {},
   "source": [
    "### Step 3: Read in the New Input Files and Run StateMod : Evaporation Example"
   ]
  },
  {
   "cell_type": "markdown",
   "id": "13cefeb1-dc79-4b44-8e21-793af035322a",
   "metadata": {},
   "source": [
    "Now that we have created the input files, the next step is to run StateMod with the new input files. We create a template .rsp file (`gm2015B_template_eva.rsp`) and swap in the path to the alternative `.eva` files that are created. Then we run StateMod for the two scenarios and extract the reservoir levels for Blue Mesa."
   ]
  },
  {
   "cell_type": "code",
   "execution_count": null,
   "id": "fc440b6f-e8ad-4863-a6ac-29c84ba724a0",
   "metadata": {
    "tags": []
   },
   "outputs": [],
   "source": [
    "# set realization and sample\n",
    "realization = 1\n",
    "sample = np.arange(0, 2, 1)\n",
    "\n",
    "# read RSP template\n",
    "with open(eva_template_file) as template_obj:\n",
    "    # read in file\n",
    "    template_rsp = Template(template_obj.read())\n",
    "\n",
    "    for i in sample:\n",
    "        # create scenario name\n",
    "        scenario = f\"S{i}_{realization}\"\n",
    "\n",
    "        # dictionary holding search keys and replacement values to update the template file\n",
    "        d = {\"EVA\": f\"../../input_files/gm2015B_{scenario}.eva\"}\n",
    "\n",
    "        # update the template\n",
    "        new_rsp = template_rsp.safe_substitute(d)\n",
    "\n",
    "        # construct simulated scenario directory\n",
    "        simulated_scenario_dir = os.path.join(scenarios_dir, scenario)\n",
    "        if not os.path.exists(simulated_scenario_dir):\n",
    "            os.makedirs(simulated_scenario_dir)\n",
    "\n",
    "        # target rsp file\n",
    "        rsp_file = os.path.join(simulated_scenario_dir, f\"gm2015B_{scenario}.rsp\")\n",
    "\n",
    "        # write updated rsp file\n",
    "        with open(rsp_file, \"w\") as f1:\n",
    "            f1.write(new_rsp)\n",
    "\n",
    "        # construct simulated basin path\n",
    "        simulated_basin_path = os.path.join(\n",
    "            simulated_scenario_dir, f\"gm2015B_{scenario}\"\n",
    "        )\n",
    "\n",
    "        # run StateMod\n",
    "        print(f\"Running: {scenario}\")\n",
    "        os.chdir(simulated_scenario_dir)\n",
    "\n",
    "        subprocess.call([statemod_exe, simulated_basin_path, \"-simulate\"])"
   ]
  },
  {
   "cell_type": "markdown",
   "id": "34cb1214-58f4-4724-802d-c53e5706acf4",
   "metadata": {},
   "source": [
    "### Step 4: Visualize Reservoir Levels in New SOWs"
   ]
  },
  {
   "cell_type": "markdown",
   "id": "fb215d1b-2887-4d80-95d4-788463382234",
   "metadata": {},
   "source": [
    "Using `extract_xre_data()`, we can then extract the reservoir levels at Blue Mesa in the two new SOWs."
   ]
  },
  {
   "cell_type": "code",
   "execution_count": null,
   "id": "308aa3e5-b705-4a4f-83e4-39e96b18303c",
   "metadata": {
    "tags": []
   },
   "outputs": [],
   "source": [
    "# SOW 1\n",
    "output_dir = os.path.join(scenarios_dir, \"S0_1\")\n",
    "\n",
    "# path the the xre file\n",
    "xre_file = os.path.join(output_dir, \"gm2015B_S0_1.xre\")\n",
    "\n",
    "# structure ID for reservoir of interest\n",
    "structure_ID = \"6203532\"\n",
    "\n",
    "# name of the reservoir\n",
    "structure_name = \"Blue_Mesa\"\n",
    "\n",
    "# extract the target info into a Pandas data frame\n",
    "df = stm.extract_xre_data(\n",
    "    structure_name=structure_name,\n",
    "    structure_id=structure_ID,\n",
    "    input_file=xre_file,\n",
    "    basin_name=None,\n",
    "    output_directory=output_dir,\n",
    "    write_csv=True,\n",
    "    write_parquet=None,\n",
    ")\n",
    "\n",
    "# SOW 2\n",
    "output_dir = os.path.join(scenarios_dir, \"S1_1\")\n",
    "\n",
    "# path the the xre file\n",
    "xre_file = os.path.join(output_dir, \"gm2015B_S1_1.xre\")\n",
    "\n",
    "\n",
    "# extract the target info into a Pandas data frame\n",
    "df = stm.extract_xre_data(\n",
    "    structure_name=structure_name,\n",
    "    structure_id=structure_ID,\n",
    "    input_file=xre_file,\n",
    "    basin_name=None,\n",
    "    output_directory=output_dir,\n",
    "    write_csv=True,\n",
    "    write_parquet=None,\n",
    ")"
   ]
  },
  {
   "cell_type": "markdown",
   "id": "1b3f33b3-c38a-4ba5-bb81-56f23b8bd31d",
   "metadata": {},
   "source": [
    "Finally, we can plot reservoir storage through time in our baseline world and alternative states of the world.\n"
   ]
  },
  {
   "cell_type": "code",
   "execution_count": null,
   "id": "6bb1ff51-b736-46dd-98f7-d9b4af9121b9",
   "metadata": {
    "tags": []
   },
   "outputs": [],
   "source": [
    "# historic reservoir directory\n",
    "historic_res_dir = os.path.join(data_dir, \"historic_reservoir_levels\")\n",
    "blue_mesa_file = os.path.join(historic_res_dir, \"Blue_Mesa_xre_data.csv\")\n",
    "\n",
    "# Import baseline dataframe\n",
    "baseline = pd.read_csv(\n",
    "    blue_mesa_file, index_col=False, usecols=[\"Year\", \"Init. Storage\"]\n",
    ")\n",
    "baseline = baseline.groupby(\"Year\").mean().reset_index()\n",
    "\n",
    "# Import SOW1\n",
    "s0_1_file = os.path.join(scenarios_dir, \"S0_1\", \"Blue_Mesa_xre_data.csv\")\n",
    "SOW1 = pd.read_csv(s0_1_file, index_col=False, usecols=[\"Year\", \"Init. Storage\"])\n",
    "SOW1 = SOW1.groupby(\"Year\").mean().reset_index()\n",
    "\n",
    "# Import SOW2\n",
    "s1_1_file = os.path.join(scenarios_dir, \"S1_1\", \"Blue_Mesa_xre_data.csv\")\n",
    "SOW2 = pd.read_csv(s1_1_file, index_col=False, usecols=[\"Year\", \"Init. Storage\"])\n",
    "SOW2 = SOW2.groupby(\"Year\").mean().reset_index()\n",
    "\n",
    "# Plot reservoir levels\n",
    "fig, ax = plt.subplots()\n",
    "\n",
    "plt.plot(baseline[\"Year\"], baseline[\"Init. Storage\"], label=\"Baseline\")\n",
    "plt.plot(SOW1[\"Year\"], SOW1[\"Init. Storage\"], label=\"Reduced Evaporation\")\n",
    "plt.plot(SOW2[\"Year\"], SOW2[\"Init. Storage\"], label=\"Increased Evaporation\")\n",
    "\n",
    "plt.title(\"Blue Mesa Storage\")\n",
    "plt.xlabel(\"Year\")\n",
    "plt.ylabel(\"Reservoir Storage (AF)\")\n",
    "\n",
    "plt.legend()"
   ]
  },
  {
   "cell_type": "markdown",
   "id": "65c7063b-ca64-447f-9203-4797243d399d",
   "metadata": {},
   "source": [
    "We see that in SOW 1 (which corresponds to reduced evaporation), the Blue Mesa storage is slightly higher than baseline. However, in SOW 2, which corresponds to increased evaporation, we see that the reservoir storage has reduced considerably."
   ]
  },
  {
   "cell_type": "markdown",
   "id": "8cdfead1-d705-48c5-a4af-8bff2907327a",
   "metadata": {},
   "source": [
    "We now encourage the user to explore how the changes in reservoir storage impacts user shortages in Quickstarter Notebook #3. "
   ]
  },
  {
   "cell_type": "markdown",
   "id": "8ee52591-6a5a-4581-9200-b2d4ee7aa09e",
   "metadata": {},
   "source": [
    "### References\n",
    "\n",
    "Hadjimichael, A., Quinn, J., Wilson, E., Reed, P., Basdekas, L., Yates, D., & Garrison, M. (2020). Defining robustness, vulnerabilities, and consequential scenarios for diverse stakeholder interests in institutionally complex river basins. Earth's Future, 8(7), e2020EF001503."
   ]
  }
 ],
 "metadata": {
  "kernelspec": {
   "display_name": "Python 3 (ipykernel)",
   "language": "python",
   "name": "python3"
  },
  "language_info": {
   "codemirror_mode": {
    "name": "ipython",
    "version": 3
   },
   "file_extension": ".py",
   "mimetype": "text/x-python",
   "name": "python",
   "nbconvert_exporter": "python",
   "pygments_lexer": "ipython3",
   "version": "3.10.9"
  }
 },
 "nbformat": 4,
 "nbformat_minor": 5
}
