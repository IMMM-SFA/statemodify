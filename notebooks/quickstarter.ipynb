{
 "cells": [
  {
   "cell_type": "markdown",
   "id": "8363764e-8c63-40b4-8991-7d02f106b19c",
   "metadata": {},
   "source": [
    "# `statemodify` quickstarter tutorial\n"
   ]
  },
  {
   "cell_type": "markdown",
   "id": "1574d6c8-8c94-4be8-8e74-c5b3ee719c0a",
   "metadata": {},
   "source": [
    "## Getting started with `statemodify`"
   ]
  },
  {
   "cell_type": "markdown",
   "id": "37878833-0f3f-4616-a8cd-d4ef5082f9e5",
   "metadata": {},
   "source": [
    "### Background"
   ]
  },
  {
   "cell_type": "code",
   "execution_count": null,
   "id": "1a926309-1c4a-4d55-a54f-e9b7ef057254",
   "metadata": {},
   "outputs": [],
   "source": []
  },
  {
   "cell_type": "markdown",
   "id": "df8ac670-24b9-4a77-8fe0-46e6004c05d5",
   "metadata": {},
   "source": [
    "### Installation"
   ]
  },
  {
   "cell_type": "markdown",
   "id": "b7985d48-4dfb-4857-a079-d64093db1332",
   "metadata": {},
   "source": [
    "See instructions to install `statemodify` here:  [install statemodify](https://immm-sfa.github.io/statemodify/getting-started/installation.html)"
   ]
  },
  {
   "cell_type": "code",
   "execution_count": null,
   "id": "ae225f46-70f8-4531-8be0-cf6afe0850cf",
   "metadata": {},
   "outputs": [],
   "source": []
  },
  {
   "cell_type": "markdown",
   "id": "ec4e2571-a38c-4f95-ab0b-c39f01501a4b",
   "metadata": {},
   "source": [
    "## Generate modified inputs for StateMod"
   ]
  },
  {
   "cell_type": "code",
   "execution_count": 7,
   "id": "ccb1516a-0a46-4cf8-b323-79124f53e99d",
   "metadata": {},
   "outputs": [],
   "source": [
    "import statemodify as stm\n",
    "\n",
    "# setup\n",
    "output_directory = \".\"\n",
    "scenario = \"quickstarter\"\n",
    "\n",
    "# the number of samples you wish to generate\n",
    "n_samples = 4\n",
    "\n",
    "# seed value for reproducibility if so desired\n",
    "seed_value = 777\n"
   ]
  },
  {
   "cell_type": "markdown",
   "id": "296aebba-b366-498f-bd6d-56eaa3aaf639",
   "metadata": {},
   "source": [
    "### Modify EVA files"
   ]
  },
  {
   "cell_type": "code",
   "execution_count": null,
   "id": "2c6be94f-f0e8-41c6-a66d-c57ad64994db",
   "metadata": {},
   "outputs": [],
   "source": [
    "# a dictionary to describe what you want to modify and the bounds for the LHS\n",
    "modify_dict = {\n",
    "    \"ids\": [[\"10001\", \"10004\"], [\"10005\", \"10006\"]],\n",
    "    \"bounds\": [[-0.5, 1.0], [-0.5, 1.0]]\n",
    "}\n",
    "\n",
    "# number of rows to skip in file after comment\n",
    "skip_rows = 1\n",
    "\n",
    "# name of field to query\n",
    "query_field = \"id\"\n",
    "\n",
    "# number of jobs to launch in parallel; -1 is all but 1 processor used\n",
    "n_jobs = -1\n",
    "\n",
    "# generate a batch of files using generated LHS\n",
    "stm.modify_eva(modify_dict=modify_dict,\n",
    "               query_field=query_field,\n",
    "               output_dir=output_dir,\n",
    "               scenario=scenario,\n",
    "               sampling_method=\"LHS\",\n",
    "               n_samples=n_samples,\n",
    "               skip_rows=skip_rows,\n",
    "               n_jobs=n_jobs,\n",
    "               seed_value=seed_value,\n",
    "               template_file=None,\n",
    "               factor_method=\"add\",\n",
    "               data_specification_file=None,\n",
    "               min_bound_value=-0.5,\n",
    "               max_bound_value=1.0)\n"
   ]
  },
  {
   "cell_type": "markdown",
   "id": "e24dfbc7-f644-4d97-9314-2b0be0633698",
   "metadata": {},
   "source": [
    "## Run StateMod \n"
   ]
  },
  {
   "cell_type": "code",
   "execution_count": 6,
   "id": "86cf7cf4-680a-4f61-9947-132ae3effdf5",
   "metadata": {},
   "outputs": [
    {
     "name": "stdout",
     "output_type": "stream",
     "text": [
      "quickstarter.ipynb\n"
     ]
    }
   ],
   "source": [
    "! ls"
   ]
  },
  {
   "cell_type": "markdown",
   "id": "72733853-6de6-46a4-842c-ff5606c7f72f",
   "metadata": {},
   "source": [
    "## Compile outputs"
   ]
  },
  {
   "cell_type": "code",
   "execution_count": null,
   "id": "ee2f91e6-ae65-4239-be46-7724eb0d26b7",
   "metadata": {},
   "outputs": [],
   "source": [
    "import statemodify as stm\n",
    "\n",
    "\n",
    "stm.xdd.convert_xdd(\n",
    "    \n",
    "    # path to a directory where output .parquet files should be written\n",
    "    output_path=\"./output\",\n",
    "    \n",
    "    # whether to abort if .parquet files already exist at the output_path\n",
    "    allow_overwrite=False,\n",
    "    \n",
    "    # path, glob, or a list of paths/globs to the .xdd files you want to convert\n",
    "    xdd_files=\"**/*.xdd\",\n",
    "    \n",
    "    # if the output .parquet files should only contain a subset of structure ids, list them here; None for all\n",
    "    id_subset=None,\n",
    "    \n",
    "    # how many .xdd files to convert in paralllel; optimally you will want 2-4 CPUs per parallel process\n",
    "    parallel_jobs=4,\n",
    ")\n",
    "\n",
    "# look for your output .parquet files at the output_path!\n"
   ]
  },
  {
   "cell_type": "markdown",
   "id": "f2080889-215c-4144-a2e7-a15b6e3658aa",
   "metadata": {},
   "source": [
    "## Visualize outputs\n"
   ]
  },
  {
   "cell_type": "code",
   "execution_count": null,
   "id": "b422f44b-f6e8-4988-926d-1d5238de0d59",
   "metadata": {},
   "outputs": [],
   "source": []
  },
  {
   "cell_type": "code",
   "execution_count": null,
   "id": "abb16793-ab6a-4b75-8086-e272aaf50d94",
   "metadata": {},
   "outputs": [],
   "source": []
  }
 ],
 "metadata": {
  "kernelspec": {
   "display_name": "py3.9.4_statemodify",
   "language": "python",
   "name": "py3.9.4_statemodify"
  },
  "language_info": {
   "codemirror_mode": {
    "name": "ipython",
    "version": 3
   },
   "file_extension": ".py",
   "mimetype": "text/x-python",
   "name": "python",
   "nbconvert_exporter": "python",
   "pygments_lexer": "ipython3",
   "version": "3.9.4"
  }
 },
 "nbformat": 4,
 "nbformat_minor": 5
}
